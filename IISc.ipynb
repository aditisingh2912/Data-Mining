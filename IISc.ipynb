{
  "nbformat": 4,
  "nbformat_minor": 0,
  "metadata": {
    "colab": {
      "provenance": [],
      "gpuType": "T4",
      "authorship_tag": "ABX9TyM2uiC+nvcG8QJ05r5Rqpza",
      "include_colab_link": true
    },
    "kernelspec": {
      "name": "python3",
      "display_name": "Python 3"
    },
    "language_info": {
      "name": "python"
    },
    "accelerator": "GPU"
  },
  "cells": [
    {
      "cell_type": "markdown",
      "metadata": {
        "id": "view-in-github",
        "colab_type": "text"
      },
      "source": [
        "<a href=\"https://colab.research.google.com/github/aditisingh2912/Data-Mining/blob/main/IISc.ipynb\" target=\"_parent\"><img src=\"https://colab.research.google.com/assets/colab-badge.svg\" alt=\"Open In Colab\"/></a>"
      ]
    },
    {
      "cell_type": "code",
      "source": [
        "from google.colab import drive\n",
        "drive.mount('/content/drive')\n",
        "%cd /content/drive/MyDrive/Assignment"
      ],
      "metadata": {
        "colab": {
          "base_uri": "https://localhost:8080/"
        },
        "id": "QaVKVN_myx-5",
        "outputId": "94cc406e-f05d-4dad-8fe4-905872feb619"
      },
      "execution_count": 2,
      "outputs": [
        {
          "output_type": "stream",
          "name": "stdout",
          "text": [
            "Drive already mounted at /content/drive; to attempt to forcibly remount, call drive.mount(\"/content/drive\", force_remount=True).\n",
            "/content/drive/.shortcut-targets-by-id/1gro73TIO2rzqpkcjGSJSOjt-4NFYc-_5/Assignment\n"
          ]
        }
      ]
    },
    {
      "cell_type": "code",
      "source": [
        "!pip install -r requirements.txt"
      ],
      "metadata": {
        "colab": {
          "base_uri": "https://localhost:8080/"
        },
        "id": "MQQKd9_-0N0W",
        "outputId": "6cf7eae5-b6af-4583-cbe4-8065189c6f22"
      },
      "execution_count": 3,
      "outputs": [
        {
          "output_type": "stream",
          "name": "stdout",
          "text": [
            "Collecting numpy==1.24.3 (from -r requirements.txt (line 1))\n",
            "  Using cached numpy-1.24.3-cp311-cp311-manylinux_2_17_x86_64.manylinux2014_x86_64.whl.metadata (5.6 kB)\n",
            "Collecting pandas==2.0.3 (from -r requirements.txt (line 2))\n",
            "  Using cached pandas-2.0.3-cp311-cp311-manylinux_2_17_x86_64.manylinux2014_x86_64.whl.metadata (18 kB)\n",
            "Collecting torch==2.0.1 (from -r requirements.txt (line 3))\n",
            "  Using cached torch-2.0.1-cp311-cp311-manylinux1_x86_64.whl.metadata (24 kB)\n",
            "Collecting scikit-learn==1.2.2 (from -r requirements.txt (line 4))\n",
            "  Using cached scikit_learn-1.2.2-cp311-cp311-manylinux_2_17_x86_64.manylinux2014_x86_64.whl.metadata (11 kB)\n",
            "Requirement already satisfied: salesforce-lavis==1.0.2 in /usr/local/lib/python3.11/dist-packages (from -r requirements.txt (line 5)) (1.0.2)\n",
            "\u001b[31mERROR: Ignored the following versions that require a different python version: 1.21.2 Requires-Python >=3.7,<3.11; 1.21.3 Requires-Python >=3.7,<3.11; 1.21.4 Requires-Python >=3.7,<3.11; 1.21.5 Requires-Python >=3.7,<3.11; 1.21.6 Requires-Python >=3.7,<3.11\u001b[0m\u001b[31m\n",
            "\u001b[0m\u001b[31mERROR: Could not find a version that satisfies the requirement faiss==1.7.4 (from versions: none)\u001b[0m\u001b[31m\n",
            "\u001b[0m\u001b[31mERROR: No matching distribution found for faiss==1.7.4\u001b[0m\u001b[31m\n",
            "\u001b[0m"
          ]
        }
      ]
    },
    {
      "cell_type": "code",
      "source": [
        "import sys\n",
        "sys.path.append('./src')"
      ],
      "metadata": {
        "id": "ZTAmtxqd0N2u"
      },
      "execution_count": 4,
      "outputs": []
    },
    {
      "cell_type": "code",
      "source": [
        "import os\n",
        "import sys\n",
        "import torch\n",
        "import numpy as np\n",
        "import pandas as pd\n",
        "from PIL import Image\n",
        "\n",
        "sys.path.append('./src')\n",
        "from models import RED_DOT\n"
      ],
      "metadata": {
        "id": "Z8LzQfNN0N5S"
      },
      "execution_count": 5,
      "outputs": []
    },
    {
      "cell_type": "code",
      "source": [
        "!pip install salesforce-lavis==1.0.2"
      ],
      "metadata": {
        "colab": {
          "base_uri": "https://localhost:8080/"
        },
        "id": "YCqqIV-k8Ih0",
        "outputId": "6aa6eeec-d40d-4a3d-c002-929107a5174a"
      },
      "execution_count": 6,
      "outputs": [
        {
          "output_type": "stream",
          "name": "stdout",
          "text": [
            "Requirement already satisfied: salesforce-lavis==1.0.2 in /usr/local/lib/python3.11/dist-packages (1.0.2)\n",
            "Requirement already satisfied: contexttimer in /usr/local/lib/python3.11/dist-packages (from salesforce-lavis==1.0.2) (0.3.3)\n",
            "Requirement already satisfied: decord in /usr/local/lib/python3.11/dist-packages (from salesforce-lavis==1.0.2) (0.6.0)\n",
            "Requirement already satisfied: einops>=0.4.1 in /usr/local/lib/python3.11/dist-packages (from salesforce-lavis==1.0.2) (0.8.1)\n",
            "Requirement already satisfied: fairscale==0.4.4 in /usr/local/lib/python3.11/dist-packages (from salesforce-lavis==1.0.2) (0.4.4)\n",
            "Requirement already satisfied: ftfy in /usr/local/lib/python3.11/dist-packages (from salesforce-lavis==1.0.2) (6.3.1)\n",
            "Requirement already satisfied: iopath in /usr/local/lib/python3.11/dist-packages (from salesforce-lavis==1.0.2) (0.1.10)\n",
            "Requirement already satisfied: ipython in /usr/local/lib/python3.11/dist-packages (from salesforce-lavis==1.0.2) (7.34.0)\n",
            "Requirement already satisfied: omegaconf in /usr/local/lib/python3.11/dist-packages (from salesforce-lavis==1.0.2) (2.3.0)\n",
            "Requirement already satisfied: opencv-python-headless==4.5.5.64 in /usr/local/lib/python3.11/dist-packages (from salesforce-lavis==1.0.2) (4.5.5.64)\n",
            "Requirement already satisfied: opendatasets in /usr/local/lib/python3.11/dist-packages (from salesforce-lavis==1.0.2) (0.1.22)\n",
            "Requirement already satisfied: packaging in /usr/local/lib/python3.11/dist-packages (from salesforce-lavis==1.0.2) (24.2)\n",
            "Requirement already satisfied: pandas in /usr/local/lib/python3.11/dist-packages (from salesforce-lavis==1.0.2) (2.2.2)\n",
            "Requirement already satisfied: plotly in /usr/local/lib/python3.11/dist-packages (from salesforce-lavis==1.0.2) (5.24.1)\n",
            "Requirement already satisfied: pre-commit in /usr/local/lib/python3.11/dist-packages (from salesforce-lavis==1.0.2) (4.2.0)\n",
            "Requirement already satisfied: pycocoevalcap in /usr/local/lib/python3.11/dist-packages (from salesforce-lavis==1.0.2) (1.2)\n",
            "Requirement already satisfied: pycocotools in /usr/local/lib/python3.11/dist-packages (from salesforce-lavis==1.0.2) (2.0.10)\n",
            "Requirement already satisfied: python-magic in /usr/local/lib/python3.11/dist-packages (from salesforce-lavis==1.0.2) (0.4.27)\n",
            "Requirement already satisfied: scikit-image in /usr/local/lib/python3.11/dist-packages (from salesforce-lavis==1.0.2) (0.25.2)\n",
            "Requirement already satisfied: sentencepiece in /usr/local/lib/python3.11/dist-packages (from salesforce-lavis==1.0.2) (0.2.0)\n",
            "Requirement already satisfied: spacy in /usr/local/lib/python3.11/dist-packages (from salesforce-lavis==1.0.2) (3.8.7)\n",
            "Requirement already satisfied: streamlit in /usr/local/lib/python3.11/dist-packages (from salesforce-lavis==1.0.2) (1.46.1)\n",
            "Requirement already satisfied: timm==0.4.12 in /usr/local/lib/python3.11/dist-packages (from salesforce-lavis==1.0.2) (0.4.12)\n",
            "Requirement already satisfied: torch>=1.10.0 in /usr/local/lib/python3.11/dist-packages (from salesforce-lavis==1.0.2) (2.6.0+cu124)\n",
            "Requirement already satisfied: torchvision in /usr/local/lib/python3.11/dist-packages (from salesforce-lavis==1.0.2) (0.21.0+cu124)\n",
            "Requirement already satisfied: tqdm in /usr/local/lib/python3.11/dist-packages (from salesforce-lavis==1.0.2) (4.67.1)\n",
            "Requirement already satisfied: transformers<4.27,>=4.25.0 in /usr/local/lib/python3.11/dist-packages (from salesforce-lavis==1.0.2) (4.26.1)\n",
            "Requirement already satisfied: webdataset in /usr/local/lib/python3.11/dist-packages (from salesforce-lavis==1.0.2) (1.0.2)\n",
            "Requirement already satisfied: wheel in /usr/local/lib/python3.11/dist-packages (from salesforce-lavis==1.0.2) (0.45.1)\n",
            "Requirement already satisfied: numpy>=1.21.2 in /usr/local/lib/python3.11/dist-packages (from opencv-python-headless==4.5.5.64->salesforce-lavis==1.0.2) (2.0.2)\n",
            "Requirement already satisfied: filelock in /usr/local/lib/python3.11/dist-packages (from torch>=1.10.0->salesforce-lavis==1.0.2) (3.18.0)\n",
            "Requirement already satisfied: typing-extensions>=4.10.0 in /usr/local/lib/python3.11/dist-packages (from torch>=1.10.0->salesforce-lavis==1.0.2) (4.14.0)\n",
            "Requirement already satisfied: networkx in /usr/local/lib/python3.11/dist-packages (from torch>=1.10.0->salesforce-lavis==1.0.2) (3.5)\n",
            "Requirement already satisfied: jinja2 in /usr/local/lib/python3.11/dist-packages (from torch>=1.10.0->salesforce-lavis==1.0.2) (3.1.6)\n",
            "Requirement already satisfied: fsspec in /usr/local/lib/python3.11/dist-packages (from torch>=1.10.0->salesforce-lavis==1.0.2) (2025.3.2)\n",
            "Requirement already satisfied: nvidia-cuda-nvrtc-cu12==12.4.127 in /usr/local/lib/python3.11/dist-packages (from torch>=1.10.0->salesforce-lavis==1.0.2) (12.4.127)\n",
            "Requirement already satisfied: nvidia-cuda-runtime-cu12==12.4.127 in /usr/local/lib/python3.11/dist-packages (from torch>=1.10.0->salesforce-lavis==1.0.2) (12.4.127)\n",
            "Requirement already satisfied: nvidia-cuda-cupti-cu12==12.4.127 in /usr/local/lib/python3.11/dist-packages (from torch>=1.10.0->salesforce-lavis==1.0.2) (12.4.127)\n",
            "Requirement already satisfied: nvidia-cudnn-cu12==9.1.0.70 in /usr/local/lib/python3.11/dist-packages (from torch>=1.10.0->salesforce-lavis==1.0.2) (9.1.0.70)\n",
            "Requirement already satisfied: nvidia-cublas-cu12==12.4.5.8 in /usr/local/lib/python3.11/dist-packages (from torch>=1.10.0->salesforce-lavis==1.0.2) (12.4.5.8)\n",
            "Requirement already satisfied: nvidia-cufft-cu12==11.2.1.3 in /usr/local/lib/python3.11/dist-packages (from torch>=1.10.0->salesforce-lavis==1.0.2) (11.2.1.3)\n",
            "Requirement already satisfied: nvidia-curand-cu12==10.3.5.147 in /usr/local/lib/python3.11/dist-packages (from torch>=1.10.0->salesforce-lavis==1.0.2) (10.3.5.147)\n",
            "Requirement already satisfied: nvidia-cusolver-cu12==11.6.1.9 in /usr/local/lib/python3.11/dist-packages (from torch>=1.10.0->salesforce-lavis==1.0.2) (11.6.1.9)\n",
            "Requirement already satisfied: nvidia-cusparse-cu12==12.3.1.170 in /usr/local/lib/python3.11/dist-packages (from torch>=1.10.0->salesforce-lavis==1.0.2) (12.3.1.170)\n",
            "Requirement already satisfied: nvidia-cusparselt-cu12==0.6.2 in /usr/local/lib/python3.11/dist-packages (from torch>=1.10.0->salesforce-lavis==1.0.2) (0.6.2)\n",
            "Requirement already satisfied: nvidia-nccl-cu12==2.21.5 in /usr/local/lib/python3.11/dist-packages (from torch>=1.10.0->salesforce-lavis==1.0.2) (2.21.5)\n",
            "Requirement already satisfied: nvidia-nvtx-cu12==12.4.127 in /usr/local/lib/python3.11/dist-packages (from torch>=1.10.0->salesforce-lavis==1.0.2) (12.4.127)\n",
            "Requirement already satisfied: nvidia-nvjitlink-cu12==12.4.127 in /usr/local/lib/python3.11/dist-packages (from torch>=1.10.0->salesforce-lavis==1.0.2) (12.4.127)\n",
            "Requirement already satisfied: triton==3.2.0 in /usr/local/lib/python3.11/dist-packages (from torch>=1.10.0->salesforce-lavis==1.0.2) (3.2.0)\n",
            "Requirement already satisfied: sympy==1.13.1 in /usr/local/lib/python3.11/dist-packages (from torch>=1.10.0->salesforce-lavis==1.0.2) (1.13.1)\n",
            "Requirement already satisfied: mpmath<1.4,>=1.1.0 in /usr/local/lib/python3.11/dist-packages (from sympy==1.13.1->torch>=1.10.0->salesforce-lavis==1.0.2) (1.3.0)\n",
            "Requirement already satisfied: huggingface-hub<1.0,>=0.11.0 in /usr/local/lib/python3.11/dist-packages (from transformers<4.27,>=4.25.0->salesforce-lavis==1.0.2) (0.33.0)\n",
            "Requirement already satisfied: pyyaml>=5.1 in /usr/local/lib/python3.11/dist-packages (from transformers<4.27,>=4.25.0->salesforce-lavis==1.0.2) (6.0.2)\n",
            "Requirement already satisfied: regex!=2019.12.17 in /usr/local/lib/python3.11/dist-packages (from transformers<4.27,>=4.25.0->salesforce-lavis==1.0.2) (2024.11.6)\n",
            "Requirement already satisfied: requests in /usr/local/lib/python3.11/dist-packages (from transformers<4.27,>=4.25.0->salesforce-lavis==1.0.2) (2.32.3)\n",
            "Requirement already satisfied: tokenizers!=0.11.3,<0.14,>=0.11.1 in /usr/local/lib/python3.11/dist-packages (from transformers<4.27,>=4.25.0->salesforce-lavis==1.0.2) (0.13.3)\n",
            "Requirement already satisfied: wcwidth in /usr/local/lib/python3.11/dist-packages (from ftfy->salesforce-lavis==1.0.2) (0.2.13)\n",
            "Requirement already satisfied: portalocker in /usr/local/lib/python3.11/dist-packages (from iopath->salesforce-lavis==1.0.2) (3.2.0)\n",
            "Requirement already satisfied: setuptools>=18.5 in /usr/local/lib/python3.11/dist-packages (from ipython->salesforce-lavis==1.0.2) (75.2.0)\n",
            "Requirement already satisfied: jedi>=0.16 in /usr/local/lib/python3.11/dist-packages (from ipython->salesforce-lavis==1.0.2) (0.19.2)\n",
            "Requirement already satisfied: decorator in /usr/local/lib/python3.11/dist-packages (from ipython->salesforce-lavis==1.0.2) (4.4.2)\n",
            "Requirement already satisfied: pickleshare in /usr/local/lib/python3.11/dist-packages (from ipython->salesforce-lavis==1.0.2) (0.7.5)\n",
            "Requirement already satisfied: traitlets>=4.2 in /usr/local/lib/python3.11/dist-packages (from ipython->salesforce-lavis==1.0.2) (5.7.1)\n",
            "Requirement already satisfied: prompt-toolkit!=3.0.0,!=3.0.1,<3.1.0,>=2.0.0 in /usr/local/lib/python3.11/dist-packages (from ipython->salesforce-lavis==1.0.2) (3.0.51)\n",
            "Requirement already satisfied: pygments in /usr/local/lib/python3.11/dist-packages (from ipython->salesforce-lavis==1.0.2) (2.19.2)\n",
            "Requirement already satisfied: backcall in /usr/local/lib/python3.11/dist-packages (from ipython->salesforce-lavis==1.0.2) (0.2.0)\n",
            "Requirement already satisfied: matplotlib-inline in /usr/local/lib/python3.11/dist-packages (from ipython->salesforce-lavis==1.0.2) (0.1.7)\n",
            "Requirement already satisfied: pexpect>4.3 in /usr/local/lib/python3.11/dist-packages (from ipython->salesforce-lavis==1.0.2) (4.9.0)\n",
            "Requirement already satisfied: antlr4-python3-runtime==4.9.* in /usr/local/lib/python3.11/dist-packages (from omegaconf->salesforce-lavis==1.0.2) (4.9.3)\n",
            "Requirement already satisfied: kaggle in /usr/local/lib/python3.11/dist-packages (from opendatasets->salesforce-lavis==1.0.2) (1.7.4.5)\n",
            "Requirement already satisfied: click in /usr/local/lib/python3.11/dist-packages (from opendatasets->salesforce-lavis==1.0.2) (8.2.1)\n",
            "Requirement already satisfied: python-dateutil>=2.8.2 in /usr/local/lib/python3.11/dist-packages (from pandas->salesforce-lavis==1.0.2) (2.9.0.post0)\n",
            "Requirement already satisfied: pytz>=2020.1 in /usr/local/lib/python3.11/dist-packages (from pandas->salesforce-lavis==1.0.2) (2025.2)\n",
            "Requirement already satisfied: tzdata>=2022.7 in /usr/local/lib/python3.11/dist-packages (from pandas->salesforce-lavis==1.0.2) (2025.2)\n",
            "Requirement already satisfied: tenacity>=6.2.0 in /usr/local/lib/python3.11/dist-packages (from plotly->salesforce-lavis==1.0.2) (8.5.0)\n",
            "Requirement already satisfied: cfgv>=2.0.0 in /usr/local/lib/python3.11/dist-packages (from pre-commit->salesforce-lavis==1.0.2) (3.4.0)\n",
            "Requirement already satisfied: identify>=1.0.0 in /usr/local/lib/python3.11/dist-packages (from pre-commit->salesforce-lavis==1.0.2) (2.6.12)\n",
            "Requirement already satisfied: nodeenv>=0.11.1 in /usr/local/lib/python3.11/dist-packages (from pre-commit->salesforce-lavis==1.0.2) (1.9.1)\n",
            "Requirement already satisfied: virtualenv>=20.10.0 in /usr/local/lib/python3.11/dist-packages (from pre-commit->salesforce-lavis==1.0.2) (20.31.2)\n",
            "Requirement already satisfied: scipy>=1.11.4 in /usr/local/lib/python3.11/dist-packages (from scikit-image->salesforce-lavis==1.0.2) (1.15.3)\n",
            "Requirement already satisfied: pillow>=10.1 in /usr/local/lib/python3.11/dist-packages (from scikit-image->salesforce-lavis==1.0.2) (11.2.1)\n",
            "Requirement already satisfied: imageio!=2.35.0,>=2.33 in /usr/local/lib/python3.11/dist-packages (from scikit-image->salesforce-lavis==1.0.2) (2.37.0)\n",
            "Requirement already satisfied: tifffile>=2022.8.12 in /usr/local/lib/python3.11/dist-packages (from scikit-image->salesforce-lavis==1.0.2) (2025.6.11)\n",
            "Requirement already satisfied: lazy-loader>=0.4 in /usr/local/lib/python3.11/dist-packages (from scikit-image->salesforce-lavis==1.0.2) (0.4)\n",
            "Requirement already satisfied: spacy-legacy<3.1.0,>=3.0.11 in /usr/local/lib/python3.11/dist-packages (from spacy->salesforce-lavis==1.0.2) (3.0.12)\n",
            "Requirement already satisfied: spacy-loggers<2.0.0,>=1.0.0 in /usr/local/lib/python3.11/dist-packages (from spacy->salesforce-lavis==1.0.2) (1.0.5)\n",
            "Requirement already satisfied: murmurhash<1.1.0,>=0.28.0 in /usr/local/lib/python3.11/dist-packages (from spacy->salesforce-lavis==1.0.2) (1.0.13)\n",
            "Requirement already satisfied: cymem<2.1.0,>=2.0.2 in /usr/local/lib/python3.11/dist-packages (from spacy->salesforce-lavis==1.0.2) (2.0.11)\n",
            "Requirement already satisfied: preshed<3.1.0,>=3.0.2 in /usr/local/lib/python3.11/dist-packages (from spacy->salesforce-lavis==1.0.2) (3.0.10)\n",
            "Requirement already satisfied: thinc<8.4.0,>=8.3.4 in /usr/local/lib/python3.11/dist-packages (from spacy->salesforce-lavis==1.0.2) (8.3.6)\n",
            "Requirement already satisfied: wasabi<1.2.0,>=0.9.1 in /usr/local/lib/python3.11/dist-packages (from spacy->salesforce-lavis==1.0.2) (1.1.3)\n",
            "Requirement already satisfied: srsly<3.0.0,>=2.4.3 in /usr/local/lib/python3.11/dist-packages (from spacy->salesforce-lavis==1.0.2) (2.5.1)\n",
            "Requirement already satisfied: catalogue<2.1.0,>=2.0.6 in /usr/local/lib/python3.11/dist-packages (from spacy->salesforce-lavis==1.0.2) (2.0.10)\n",
            "Requirement already satisfied: weasel<0.5.0,>=0.1.0 in /usr/local/lib/python3.11/dist-packages (from spacy->salesforce-lavis==1.0.2) (0.4.1)\n",
            "Requirement already satisfied: typer<1.0.0,>=0.3.0 in /usr/local/lib/python3.11/dist-packages (from spacy->salesforce-lavis==1.0.2) (0.16.0)\n",
            "Requirement already satisfied: pydantic!=1.8,!=1.8.1,<3.0.0,>=1.7.4 in /usr/local/lib/python3.11/dist-packages (from spacy->salesforce-lavis==1.0.2) (2.11.7)\n",
            "Requirement already satisfied: langcodes<4.0.0,>=3.2.0 in /usr/local/lib/python3.11/dist-packages (from spacy->salesforce-lavis==1.0.2) (3.5.0)\n",
            "Requirement already satisfied: altair<6,>=4.0 in /usr/local/lib/python3.11/dist-packages (from streamlit->salesforce-lavis==1.0.2) (5.5.0)\n",
            "Requirement already satisfied: blinker<2,>=1.5.0 in /usr/local/lib/python3.11/dist-packages (from streamlit->salesforce-lavis==1.0.2) (1.9.0)\n",
            "Requirement already satisfied: cachetools<7,>=4.0 in /usr/local/lib/python3.11/dist-packages (from streamlit->salesforce-lavis==1.0.2) (5.5.2)\n",
            "Requirement already satisfied: protobuf<7,>=3.20 in /usr/local/lib/python3.11/dist-packages (from streamlit->salesforce-lavis==1.0.2) (5.29.5)\n",
            "Requirement already satisfied: pyarrow>=7.0 in /usr/local/lib/python3.11/dist-packages (from streamlit->salesforce-lavis==1.0.2) (18.1.0)\n",
            "Requirement already satisfied: toml<2,>=0.10.1 in /usr/local/lib/python3.11/dist-packages (from streamlit->salesforce-lavis==1.0.2) (0.10.2)\n",
            "Requirement already satisfied: watchdog<7,>=2.1.5 in /usr/local/lib/python3.11/dist-packages (from streamlit->salesforce-lavis==1.0.2) (6.0.0)\n",
            "Requirement already satisfied: gitpython!=3.1.19,<4,>=3.0.7 in /usr/local/lib/python3.11/dist-packages (from streamlit->salesforce-lavis==1.0.2) (3.1.44)\n",
            "Requirement already satisfied: pydeck<1,>=0.8.0b4 in /usr/local/lib/python3.11/dist-packages (from streamlit->salesforce-lavis==1.0.2) (0.9.1)\n",
            "Requirement already satisfied: tornado!=6.5.0,<7,>=6.0.3 in /usr/local/lib/python3.11/dist-packages (from streamlit->salesforce-lavis==1.0.2) (6.4.2)\n",
            "Requirement already satisfied: braceexpand in /usr/local/lib/python3.11/dist-packages (from webdataset->salesforce-lavis==1.0.2) (0.1.7)\n",
            "Requirement already satisfied: jsonschema>=3.0 in /usr/local/lib/python3.11/dist-packages (from altair<6,>=4.0->streamlit->salesforce-lavis==1.0.2) (4.24.0)\n",
            "Requirement already satisfied: narwhals>=1.14.2 in /usr/local/lib/python3.11/dist-packages (from altair<6,>=4.0->streamlit->salesforce-lavis==1.0.2) (1.44.0)\n",
            "Requirement already satisfied: gitdb<5,>=4.0.1 in /usr/local/lib/python3.11/dist-packages (from gitpython!=3.1.19,<4,>=3.0.7->streamlit->salesforce-lavis==1.0.2) (4.0.12)\n",
            "Requirement already satisfied: hf-xet<2.0.0,>=1.1.2 in /usr/local/lib/python3.11/dist-packages (from huggingface-hub<1.0,>=0.11.0->transformers<4.27,>=4.25.0->salesforce-lavis==1.0.2) (1.1.5)\n",
            "Requirement already satisfied: parso<0.9.0,>=0.8.4 in /usr/local/lib/python3.11/dist-packages (from jedi>=0.16->ipython->salesforce-lavis==1.0.2) (0.8.4)\n",
            "Requirement already satisfied: language-data>=1.2 in /usr/local/lib/python3.11/dist-packages (from langcodes<4.0.0,>=3.2.0->spacy->salesforce-lavis==1.0.2) (1.3.0)\n",
            "Requirement already satisfied: ptyprocess>=0.5 in /usr/local/lib/python3.11/dist-packages (from pexpect>4.3->ipython->salesforce-lavis==1.0.2) (0.7.0)\n",
            "Requirement already satisfied: annotated-types>=0.6.0 in /usr/local/lib/python3.11/dist-packages (from pydantic!=1.8,!=1.8.1,<3.0.0,>=1.7.4->spacy->salesforce-lavis==1.0.2) (0.7.0)\n",
            "Requirement already satisfied: pydantic-core==2.33.2 in /usr/local/lib/python3.11/dist-packages (from pydantic!=1.8,!=1.8.1,<3.0.0,>=1.7.4->spacy->salesforce-lavis==1.0.2) (2.33.2)\n",
            "Requirement already satisfied: typing-inspection>=0.4.0 in /usr/local/lib/python3.11/dist-packages (from pydantic!=1.8,!=1.8.1,<3.0.0,>=1.7.4->spacy->salesforce-lavis==1.0.2) (0.4.1)\n",
            "Requirement already satisfied: MarkupSafe>=2.0 in /usr/local/lib/python3.11/dist-packages (from jinja2->torch>=1.10.0->salesforce-lavis==1.0.2) (3.0.2)\n",
            "Requirement already satisfied: six>=1.5 in /usr/local/lib/python3.11/dist-packages (from python-dateutil>=2.8.2->pandas->salesforce-lavis==1.0.2) (1.17.0)\n",
            "Requirement already satisfied: charset-normalizer<4,>=2 in /usr/local/lib/python3.11/dist-packages (from requests->transformers<4.27,>=4.25.0->salesforce-lavis==1.0.2) (3.4.2)\n",
            "Requirement already satisfied: idna<4,>=2.5 in /usr/local/lib/python3.11/dist-packages (from requests->transformers<4.27,>=4.25.0->salesforce-lavis==1.0.2) (3.10)\n",
            "Requirement already satisfied: urllib3<3,>=1.21.1 in /usr/local/lib/python3.11/dist-packages (from requests->transformers<4.27,>=4.25.0->salesforce-lavis==1.0.2) (2.4.0)\n",
            "Requirement already satisfied: certifi>=2017.4.17 in /usr/local/lib/python3.11/dist-packages (from requests->transformers<4.27,>=4.25.0->salesforce-lavis==1.0.2) (2025.6.15)\n",
            "Requirement already satisfied: blis<1.4.0,>=1.3.0 in /usr/local/lib/python3.11/dist-packages (from thinc<8.4.0,>=8.3.4->spacy->salesforce-lavis==1.0.2) (1.3.0)\n",
            "Requirement already satisfied: confection<1.0.0,>=0.0.1 in /usr/local/lib/python3.11/dist-packages (from thinc<8.4.0,>=8.3.4->spacy->salesforce-lavis==1.0.2) (0.1.5)\n",
            "Requirement already satisfied: shellingham>=1.3.0 in /usr/local/lib/python3.11/dist-packages (from typer<1.0.0,>=0.3.0->spacy->salesforce-lavis==1.0.2) (1.5.4)\n",
            "Requirement already satisfied: rich>=10.11.0 in /usr/local/lib/python3.11/dist-packages (from typer<1.0.0,>=0.3.0->spacy->salesforce-lavis==1.0.2) (13.9.4)\n",
            "Requirement already satisfied: distlib<1,>=0.3.7 in /usr/local/lib/python3.11/dist-packages (from virtualenv>=20.10.0->pre-commit->salesforce-lavis==1.0.2) (0.3.9)\n",
            "Requirement already satisfied: platformdirs<5,>=3.9.1 in /usr/local/lib/python3.11/dist-packages (from virtualenv>=20.10.0->pre-commit->salesforce-lavis==1.0.2) (4.3.8)\n",
            "Requirement already satisfied: cloudpathlib<1.0.0,>=0.7.0 in /usr/local/lib/python3.11/dist-packages (from weasel<0.5.0,>=0.1.0->spacy->salesforce-lavis==1.0.2) (0.21.1)\n",
            "Requirement already satisfied: smart-open<8.0.0,>=5.2.1 in /usr/local/lib/python3.11/dist-packages (from weasel<0.5.0,>=0.1.0->spacy->salesforce-lavis==1.0.2) (7.1.0)\n",
            "Requirement already satisfied: bleach in /usr/local/lib/python3.11/dist-packages (from kaggle->opendatasets->salesforce-lavis==1.0.2) (6.2.0)\n",
            "Requirement already satisfied: python-slugify in /usr/local/lib/python3.11/dist-packages (from kaggle->opendatasets->salesforce-lavis==1.0.2) (8.0.4)\n",
            "Requirement already satisfied: text-unidecode in /usr/local/lib/python3.11/dist-packages (from kaggle->opendatasets->salesforce-lavis==1.0.2) (1.3)\n",
            "Requirement already satisfied: webencodings in /usr/local/lib/python3.11/dist-packages (from kaggle->opendatasets->salesforce-lavis==1.0.2) (0.5.1)\n",
            "Requirement already satisfied: smmap<6,>=3.0.1 in /usr/local/lib/python3.11/dist-packages (from gitdb<5,>=4.0.1->gitpython!=3.1.19,<4,>=3.0.7->streamlit->salesforce-lavis==1.0.2) (5.0.2)\n",
            "Requirement already satisfied: attrs>=22.2.0 in /usr/local/lib/python3.11/dist-packages (from jsonschema>=3.0->altair<6,>=4.0->streamlit->salesforce-lavis==1.0.2) (25.3.0)\n",
            "Requirement already satisfied: jsonschema-specifications>=2023.03.6 in /usr/local/lib/python3.11/dist-packages (from jsonschema>=3.0->altair<6,>=4.0->streamlit->salesforce-lavis==1.0.2) (2025.4.1)\n",
            "Requirement already satisfied: referencing>=0.28.4 in /usr/local/lib/python3.11/dist-packages (from jsonschema>=3.0->altair<6,>=4.0->streamlit->salesforce-lavis==1.0.2) (0.36.2)\n",
            "Requirement already satisfied: rpds-py>=0.7.1 in /usr/local/lib/python3.11/dist-packages (from jsonschema>=3.0->altair<6,>=4.0->streamlit->salesforce-lavis==1.0.2) (0.25.1)\n",
            "Requirement already satisfied: marisa-trie>=1.1.0 in /usr/local/lib/python3.11/dist-packages (from language-data>=1.2->langcodes<4.0.0,>=3.2.0->spacy->salesforce-lavis==1.0.2) (1.2.1)\n",
            "Requirement already satisfied: markdown-it-py>=2.2.0 in /usr/local/lib/python3.11/dist-packages (from rich>=10.11.0->typer<1.0.0,>=0.3.0->spacy->salesforce-lavis==1.0.2) (3.0.0)\n",
            "Requirement already satisfied: wrapt in /usr/local/lib/python3.11/dist-packages (from smart-open<8.0.0,>=5.2.1->weasel<0.5.0,>=0.1.0->spacy->salesforce-lavis==1.0.2) (1.17.2)\n",
            "Requirement already satisfied: mdurl~=0.1 in /usr/local/lib/python3.11/dist-packages (from markdown-it-py>=2.2.0->rich>=10.11.0->typer<1.0.0,>=0.3.0->spacy->salesforce-lavis==1.0.2) (0.1.2)\n"
          ]
        }
      ]
    },
    {
      "cell_type": "code",
      "source": [
        "# ---- SETTINGS ----\n",
        "from lavis.models import load_model_and_preprocess\n",
        "DEVICE = torch.device(\"cuda\" if torch.cuda.is_available() else \"cpu\")\n",
        "CHECKPOINT_PATH = \"/content/drive/MyDrive/Assignment/checkpoints_pt/best_model.pt\"  # Adjust file name\n",
        "TEST_DATA_DIR = \"/content/drive/MyDrive/Assignment/Test Data\"\n",
        "NUM_SAMPLES = 10\n",
        "\n",
        "# ---- MODEL SETUP ----\n",
        "model = RED_DOT(\n",
        "    device=DEVICE,\n",
        "    emb_dim=768,          # Changed to match checkpoint\n",
        "    tf_layers=4,\n",
        "    tf_head=8,\n",
        "    tf_dim=128,\n",
        "    use_evidence=0,\n",
        "    use_neg_evidence=0,\n",
        "    model_version=\"baseline\" # Assuming the model version in the checkpoint is 'baseline' or compatible\n",
        ")\n",
        "checkpoint = torch.load(CHECKPOINT_PATH, map_location=DEVICE)\n",
        "# Assuming the state dictionary is directly in the checkpoint, otherwise adjust the key (e.g., checkpoint['model_state_dict'])\n",
        "model.load_state_dict(checkpoint[\"model_state_dict\"])\n",
        "model.eval()\n",
        "\n",
        "# ---- CLIP SETUP ----\n",
        "clip_model, vis_processors, txt_processors = load_model_and_preprocess(\n",
        "    name=\"clip_feature_extractor\",\n",
        "    model_type=\"ViT-L-14\",\n",
        "    is_eval=True,\n",
        "    device=DEVICE\n",
        ")"
      ],
      "metadata": {
        "colab": {
          "base_uri": "https://localhost:8080/"
        },
        "id": "T8i4Q_zP1Z86",
        "outputId": "a30be416-b34a-46ad-d294-99babdebc419"
      },
      "execution_count": 8,
      "outputs": [
        {
          "output_type": "stream",
          "name": "stderr",
          "text": [
            "/usr/local/lib/python3.11/dist-packages/fairscale/experimental/nn/offload.py:19: FutureWarning: `torch.cuda.amp.custom_fwd(args...)` is deprecated. Please use `torch.amp.custom_fwd(args..., device_type='cuda')` instead.\n",
            "  return torch.cuda.amp.custom_fwd(orig_func)  # type: ignore\n",
            "/usr/local/lib/python3.11/dist-packages/fairscale/experimental/nn/offload.py:30: FutureWarning: `torch.cuda.amp.custom_bwd(args...)` is deprecated. Please use `torch.amp.custom_bwd(args..., device_type='cuda')` instead.\n",
            "  return torch.cuda.amp.custom_bwd(orig_func)  # type: ignore\n",
            "/usr/local/lib/python3.11/dist-packages/torch/nn/modules/transformer.py:385: UserWarning: enable_nested_tensor is True, but self.use_nested_tensor is False because encoder_layer.norm_first was True\n",
            "  warnings.warn(\n"
          ]
        }
      ]
    },
    {
      "cell_type": "code",
      "source": [
        "print(next(model.parameters()).mean())"
      ],
      "metadata": {
        "colab": {
          "base_uri": "https://localhost:8080/"
        },
        "id": "fq87Ra6-n0bH",
        "outputId": "b29202e9-5c11-4c68-f6cd-9f9c2d4782c5"
      },
      "execution_count": 9,
      "outputs": [
        {
          "output_type": "stream",
          "name": "stdout",
          "text": [
            "tensor(0.0624, grad_fn=<MeanBackward0>)\n"
          ]
        }
      ]
    },
    {
      "cell_type": "code",
      "source": [
        "\n",
        "\n",
        "\n",
        ""
      ],
      "metadata": {
        "id": "mfRt9AJufRJ1"
      },
      "execution_count": null,
      "outputs": []
    },
    {
      "cell_type": "code",
      "source": [],
      "metadata": {
        "id": "_-5PNCK1gfIZ"
      },
      "execution_count": null,
      "outputs": []
    },
    {
      "cell_type": "code",
      "source": [
        "for name, param in model.named_parameters():\n",
        "    print(name, param.mean(), param.std())"
      ],
      "metadata": {
        "colab": {
          "base_uri": "https://localhost:8080/"
        },
        "id": "cUzIxtBvzbbq",
        "outputId": "bfb4f213-162f-422d-bbb3-0f9c366e08fd"
      },
      "execution_count": 10,
      "outputs": [
        {
          "output_type": "stream",
          "name": "stdout",
          "text": [
            "cls_token tensor(0.0624, grad_fn=<MeanBackward0>) tensor(1.0293, grad_fn=<StdBackward0>)\n",
            "transformer.layers.0.self_attn.in_proj_weight tensor(2.9401e-06, grad_fn=<MeanBackward0>) tensor(0.0326, grad_fn=<StdBackward0>)\n",
            "transformer.layers.0.self_attn.in_proj_bias tensor(-0.0002, grad_fn=<MeanBackward0>) tensor(0.0214, grad_fn=<StdBackward0>)\n",
            "transformer.layers.0.self_attn.out_proj.weight tensor(3.4457e-05, grad_fn=<MeanBackward0>) tensor(0.0264, grad_fn=<StdBackward0>)\n",
            "transformer.layers.0.self_attn.out_proj.bias tensor(0.0002, grad_fn=<MeanBackward0>) tensor(0.0399, grad_fn=<StdBackward0>)\n",
            "transformer.layers.0.linear1.weight tensor(-2.2577e-05, grad_fn=<MeanBackward0>) tensor(0.0271, grad_fn=<StdBackward0>)\n",
            "transformer.layers.0.linear1.bias tensor(-0.0129, grad_fn=<MeanBackward0>) tensor(0.0267, grad_fn=<StdBackward0>)\n",
            "transformer.layers.0.linear2.weight tensor(-2.5483e-05, grad_fn=<MeanBackward0>) tensor(0.0538, grad_fn=<StdBackward0>)\n",
            "transformer.layers.0.linear2.bias tensor(0.0020, grad_fn=<MeanBackward0>) tensor(0.0663, grad_fn=<StdBackward0>)\n",
            "transformer.layers.0.norm1.weight tensor(1.0185, grad_fn=<MeanBackward0>) tensor(0.0244, grad_fn=<StdBackward0>)\n",
            "transformer.layers.0.norm1.bias tensor(-0.0010, grad_fn=<MeanBackward0>) tensor(0.0330, grad_fn=<StdBackward0>)\n",
            "transformer.layers.0.norm2.weight tensor(0.9765, grad_fn=<MeanBackward0>) tensor(0.0288, grad_fn=<StdBackward0>)\n",
            "transformer.layers.0.norm2.bias tensor(-0.0005, grad_fn=<MeanBackward0>) tensor(0.0276, grad_fn=<StdBackward0>)\n",
            "transformer.layers.1.self_attn.in_proj_weight tensor(5.5426e-06, grad_fn=<MeanBackward0>) tensor(0.0298, grad_fn=<StdBackward0>)\n",
            "transformer.layers.1.self_attn.in_proj_bias tensor(-8.9498e-05, grad_fn=<MeanBackward0>) tensor(0.0091, grad_fn=<StdBackward0>)\n",
            "transformer.layers.1.self_attn.out_proj.weight tensor(1.5185e-05, grad_fn=<MeanBackward0>) tensor(0.0260, grad_fn=<StdBackward0>)\n",
            "transformer.layers.1.self_attn.out_proj.bias tensor(0.0002, grad_fn=<MeanBackward0>) tensor(0.0219, grad_fn=<StdBackward0>)\n",
            "transformer.layers.1.linear1.weight tensor(-2.1330e-05, grad_fn=<MeanBackward0>) tensor(0.0269, grad_fn=<StdBackward0>)\n",
            "transformer.layers.1.linear1.bias tensor(-0.0108, grad_fn=<MeanBackward0>) tensor(0.0264, grad_fn=<StdBackward0>)\n",
            "transformer.layers.1.linear2.weight tensor(-1.3051e-05, grad_fn=<MeanBackward0>) tensor(0.0534, grad_fn=<StdBackward0>)\n",
            "transformer.layers.1.linear2.bias tensor(0.0022, grad_fn=<MeanBackward0>) tensor(0.0576, grad_fn=<StdBackward0>)\n",
            "transformer.layers.1.norm1.weight tensor(0.9431, grad_fn=<MeanBackward0>) tensor(0.0322, grad_fn=<StdBackward0>)\n",
            "transformer.layers.1.norm1.bias tensor(-0.0002, grad_fn=<MeanBackward0>) tensor(0.0392, grad_fn=<StdBackward0>)\n",
            "transformer.layers.1.norm2.weight tensor(0.9893, grad_fn=<MeanBackward0>) tensor(0.0178, grad_fn=<StdBackward0>)\n",
            "transformer.layers.1.norm2.bias tensor(4.3991e-05, grad_fn=<MeanBackward0>) tensor(0.0119, grad_fn=<StdBackward0>)\n",
            "transformer.layers.2.self_attn.in_proj_weight tensor(3.0161e-06, grad_fn=<MeanBackward0>) tensor(0.0298, grad_fn=<StdBackward0>)\n",
            "transformer.layers.2.self_attn.in_proj_bias tensor(6.3892e-05, grad_fn=<MeanBackward0>) tensor(0.0080, grad_fn=<StdBackward0>)\n",
            "transformer.layers.2.self_attn.out_proj.weight tensor(2.8180e-05, grad_fn=<MeanBackward0>) tensor(0.0248, grad_fn=<StdBackward0>)\n",
            "transformer.layers.2.self_attn.out_proj.bias tensor(-0.0003, grad_fn=<MeanBackward0>) tensor(0.0171, grad_fn=<StdBackward0>)\n",
            "transformer.layers.2.linear1.weight tensor(4.2410e-05, grad_fn=<MeanBackward0>) tensor(0.0263, grad_fn=<StdBackward0>)\n",
            "transformer.layers.2.linear1.bias tensor(-0.0152, grad_fn=<MeanBackward0>) tensor(0.0290, grad_fn=<StdBackward0>)\n",
            "transformer.layers.2.linear2.weight tensor(-5.5501e-06, grad_fn=<MeanBackward0>) tensor(0.0529, grad_fn=<StdBackward0>)\n",
            "transformer.layers.2.linear2.bias tensor(0.0026, grad_fn=<MeanBackward0>) tensor(0.0536, grad_fn=<StdBackward0>)\n",
            "transformer.layers.2.norm1.weight tensor(0.9511, grad_fn=<MeanBackward0>) tensor(0.0257, grad_fn=<StdBackward0>)\n",
            "transformer.layers.2.norm1.bias tensor(0.0001, grad_fn=<MeanBackward0>) tensor(0.0350, grad_fn=<StdBackward0>)\n",
            "transformer.layers.2.norm2.weight tensor(0.9882, grad_fn=<MeanBackward0>) tensor(0.0171, grad_fn=<StdBackward0>)\n",
            "transformer.layers.2.norm2.bias tensor(6.8750e-05, grad_fn=<MeanBackward0>) tensor(0.0132, grad_fn=<StdBackward0>)\n",
            "transformer.layers.3.self_attn.in_proj_weight tensor(-1.1417e-06, grad_fn=<MeanBackward0>) tensor(0.0295, grad_fn=<StdBackward0>)\n",
            "transformer.layers.3.self_attn.in_proj_bias tensor(0.0003, grad_fn=<MeanBackward0>) tensor(0.0080, grad_fn=<StdBackward0>)\n",
            "transformer.layers.3.self_attn.out_proj.weight tensor(3.1165e-05, grad_fn=<MeanBackward0>) tensor(0.0232, grad_fn=<StdBackward0>)\n",
            "transformer.layers.3.self_attn.out_proj.bias tensor(-0.0003, grad_fn=<MeanBackward0>) tensor(0.0120, grad_fn=<StdBackward0>)\n",
            "transformer.layers.3.linear1.weight tensor(1.1180e-05, grad_fn=<MeanBackward0>) tensor(0.0255, grad_fn=<StdBackward0>)\n",
            "transformer.layers.3.linear1.bias tensor(-0.0193, grad_fn=<MeanBackward0>) tensor(0.0265, grad_fn=<StdBackward0>)\n",
            "transformer.layers.3.linear2.weight tensor(-3.0264e-06, grad_fn=<MeanBackward0>) tensor(0.0522, grad_fn=<StdBackward0>)\n",
            "transformer.layers.3.linear2.bias tensor(0.0020, grad_fn=<MeanBackward0>) tensor(0.0519, grad_fn=<StdBackward0>)\n",
            "transformer.layers.3.norm1.weight tensor(0.9602, grad_fn=<MeanBackward0>) tensor(0.0266, grad_fn=<StdBackward0>)\n",
            "transformer.layers.3.norm1.bias tensor(0.0005, grad_fn=<MeanBackward0>) tensor(0.0364, grad_fn=<StdBackward0>)\n",
            "transformer.layers.3.norm2.weight tensor(0.9813, grad_fn=<MeanBackward0>) tensor(0.0181, grad_fn=<StdBackward0>)\n",
            "transformer.layers.3.norm2.bias tensor(0.0003, grad_fn=<MeanBackward0>) tensor(0.0177, grad_fn=<StdBackward0>)\n",
            "binary_classifier.layer_norm.weight tensor(0.9772, grad_fn=<MeanBackward0>) tensor(0.0263, grad_fn=<StdBackward0>)\n",
            "binary_classifier.layer_norm.bias tensor(1.2756e-05, grad_fn=<MeanBackward0>) tensor(0.0175, grad_fn=<StdBackward0>)\n",
            "binary_classifier.fc.weight tensor(4.5066e-06, grad_fn=<MeanBackward0>) tensor(0.0257, grad_fn=<StdBackward0>)\n",
            "binary_classifier.fc.bias tensor(-0.0131, grad_fn=<MeanBackward0>) tensor(0.0256, grad_fn=<StdBackward0>)\n",
            "binary_classifier.output_layer.weight tensor(0.0022, grad_fn=<MeanBackward0>) tensor(0.0192, grad_fn=<StdBackward0>)\n",
            "binary_classifier.output_layer.bias tensor(0.0082, grad_fn=<MeanBackward0>) tensor(nan, grad_fn=<StdBackward0>)\n"
          ]
        },
        {
          "output_type": "stream",
          "name": "stderr",
          "text": [
            "/tmp/ipython-input-10-4226696417.py:2: UserWarning: std(): degrees of freedom is <= 0. Correction should be strictly less than the reduction factor (input numel divided by output numel). (Triggered internally at /pytorch/aten/src/ATen/native/ReduceOps.cpp:1831.)\n",
            "  print(name, param.mean(), param.std())\n"
          ]
        }
      ]
    },
    {
      "cell_type": "code",
      "source": [
        "print(model.binary_classifier.output_layer.bias)"
      ],
      "metadata": {
        "colab": {
          "base_uri": "https://localhost:8080/"
        },
        "id": "FT_0MvCOeeSa",
        "outputId": "9215afa5-8383-4ce8-efc7-2c8a9940adc3"
      },
      "execution_count": 11,
      "outputs": [
        {
          "output_type": "stream",
          "name": "stdout",
          "text": [
            "Parameter containing:\n",
            "tensor([0.0082], requires_grad=True)\n"
          ]
        }
      ]
    },
    {
      "cell_type": "code",
      "source": [
        "results = []\n",
        "for i in range(1, NUM_SAMPLES+1):\n",
        "    sample_dir = os.path.join(TEST_DATA_DIR, f\"sample{i}\")\n",
        "    image_path = os.path.join(sample_dir, \"Image.jpg\")\n",
        "    caption_path = os.path.join(sample_dir, \"caption.txt\")\n",
        "    gt_path = os.path.join(sample_dir, \"GT.txt\")\n",
        "\n",
        "    image = Image.open(image_path).convert(\"RGB\")\n",
        "    with open(caption_path, \"r\") as f:\n",
        "        caption = f.read().strip()\n",
        "    with open(gt_path, \"r\") as f:\n",
        "        gt_str = f.read().strip().lower()\n",
        "        if gt_str == \"fake\":\n",
        "            ground_truth = 1\n",
        "        elif gt_str == \"true\":\n",
        "            ground_truth = 0\n",
        "        else:\n",
        "            raise ValueError(f\"Unknown label: {gt_str} in {gt_path}\")\n"
      ],
      "metadata": {
        "id": "kN2Vn6RW0N7j"
      },
      "execution_count": 12,
      "outputs": []
    },
    {
      "cell_type": "code",
      "source": [
        "txt_obj = txt_processors[\"eval\"](caption)\n",
        "print(\"txt_obj type:\", type(txt_obj))\n",
        "print(\"txt_obj:\", txt_obj)"
      ],
      "metadata": {
        "id": "PIxTHFsdDDsx"
      },
      "execution_count": null,
      "outputs": []
    },
    {
      "cell_type": "code",
      "source": [
        "!pip install clip\n",
        "!pip install git+https://github.com/openai/CLIP.git\n",
        "import clip\n",
        "import torch\n",
        "tokenized = clip.tokenize([caption]).to(DEVICE)  # Always batch!\n",
        "txt_tensor = tokenized"
      ],
      "metadata": {
        "colab": {
          "base_uri": "https://localhost:8080/"
        },
        "id": "9v5eBk--DS6M",
        "outputId": "81730d9d-d1ff-4c65-bc23-67fb40256cde"
      },
      "execution_count": 13,
      "outputs": [
        {
          "output_type": "stream",
          "name": "stdout",
          "text": [
            "Requirement already satisfied: clip in /usr/local/lib/python3.11/dist-packages (1.0)\n",
            "Requirement already satisfied: ftfy in /usr/local/lib/python3.11/dist-packages (from clip) (6.3.1)\n",
            "Requirement already satisfied: packaging in /usr/local/lib/python3.11/dist-packages (from clip) (24.2)\n",
            "Requirement already satisfied: regex in /usr/local/lib/python3.11/dist-packages (from clip) (2024.11.6)\n",
            "Requirement already satisfied: tqdm in /usr/local/lib/python3.11/dist-packages (from clip) (4.67.1)\n",
            "Requirement already satisfied: torch in /usr/local/lib/python3.11/dist-packages (from clip) (2.6.0+cu124)\n",
            "Requirement already satisfied: torchvision in /usr/local/lib/python3.11/dist-packages (from clip) (0.21.0+cu124)\n",
            "Requirement already satisfied: wcwidth in /usr/local/lib/python3.11/dist-packages (from ftfy->clip) (0.2.13)\n",
            "Requirement already satisfied: filelock in /usr/local/lib/python3.11/dist-packages (from torch->clip) (3.18.0)\n",
            "Requirement already satisfied: typing-extensions>=4.10.0 in /usr/local/lib/python3.11/dist-packages (from torch->clip) (4.14.0)\n",
            "Requirement already satisfied: networkx in /usr/local/lib/python3.11/dist-packages (from torch->clip) (3.5)\n",
            "Requirement already satisfied: jinja2 in /usr/local/lib/python3.11/dist-packages (from torch->clip) (3.1.6)\n",
            "Requirement already satisfied: fsspec in /usr/local/lib/python3.11/dist-packages (from torch->clip) (2025.3.2)\n",
            "Requirement already satisfied: nvidia-cuda-nvrtc-cu12==12.4.127 in /usr/local/lib/python3.11/dist-packages (from torch->clip) (12.4.127)\n",
            "Requirement already satisfied: nvidia-cuda-runtime-cu12==12.4.127 in /usr/local/lib/python3.11/dist-packages (from torch->clip) (12.4.127)\n",
            "Requirement already satisfied: nvidia-cuda-cupti-cu12==12.4.127 in /usr/local/lib/python3.11/dist-packages (from torch->clip) (12.4.127)\n",
            "Requirement already satisfied: nvidia-cudnn-cu12==9.1.0.70 in /usr/local/lib/python3.11/dist-packages (from torch->clip) (9.1.0.70)\n",
            "Requirement already satisfied: nvidia-cublas-cu12==12.4.5.8 in /usr/local/lib/python3.11/dist-packages (from torch->clip) (12.4.5.8)\n",
            "Requirement already satisfied: nvidia-cufft-cu12==11.2.1.3 in /usr/local/lib/python3.11/dist-packages (from torch->clip) (11.2.1.3)\n",
            "Requirement already satisfied: nvidia-curand-cu12==10.3.5.147 in /usr/local/lib/python3.11/dist-packages (from torch->clip) (10.3.5.147)\n",
            "Requirement already satisfied: nvidia-cusolver-cu12==11.6.1.9 in /usr/local/lib/python3.11/dist-packages (from torch->clip) (11.6.1.9)\n",
            "Requirement already satisfied: nvidia-cusparse-cu12==12.3.1.170 in /usr/local/lib/python3.11/dist-packages (from torch->clip) (12.3.1.170)\n",
            "Requirement already satisfied: nvidia-cusparselt-cu12==0.6.2 in /usr/local/lib/python3.11/dist-packages (from torch->clip) (0.6.2)\n",
            "Requirement already satisfied: nvidia-nccl-cu12==2.21.5 in /usr/local/lib/python3.11/dist-packages (from torch->clip) (2.21.5)\n",
            "Requirement already satisfied: nvidia-nvtx-cu12==12.4.127 in /usr/local/lib/python3.11/dist-packages (from torch->clip) (12.4.127)\n",
            "Requirement already satisfied: nvidia-nvjitlink-cu12==12.4.127 in /usr/local/lib/python3.11/dist-packages (from torch->clip) (12.4.127)\n",
            "Requirement already satisfied: triton==3.2.0 in /usr/local/lib/python3.11/dist-packages (from torch->clip) (3.2.0)\n",
            "Requirement already satisfied: sympy==1.13.1 in /usr/local/lib/python3.11/dist-packages (from torch->clip) (1.13.1)\n",
            "Requirement already satisfied: mpmath<1.4,>=1.1.0 in /usr/local/lib/python3.11/dist-packages (from sympy==1.13.1->torch->clip) (1.3.0)\n",
            "Requirement already satisfied: numpy in /usr/local/lib/python3.11/dist-packages (from torchvision->clip) (2.0.2)\n",
            "Requirement already satisfied: pillow!=8.3.*,>=5.3.0 in /usr/local/lib/python3.11/dist-packages (from torchvision->clip) (11.2.1)\n",
            "Requirement already satisfied: MarkupSafe>=2.0 in /usr/local/lib/python3.11/dist-packages (from jinja2->torch->clip) (3.0.2)\n",
            "Collecting git+https://github.com/openai/CLIP.git\n",
            "  Cloning https://github.com/openai/CLIP.git to /tmp/pip-req-build-u6ywrzux\n",
            "  Running command git clone --filter=blob:none --quiet https://github.com/openai/CLIP.git /tmp/pip-req-build-u6ywrzux\n",
            "  Resolved https://github.com/openai/CLIP.git to commit dcba3cb2e2827b402d2701e7e1c7d9fed8a20ef1\n",
            "  Preparing metadata (setup.py) ... \u001b[?25l\u001b[?25hdone\n",
            "Requirement already satisfied: ftfy in /usr/local/lib/python3.11/dist-packages (from clip==1.0) (6.3.1)\n",
            "Requirement already satisfied: packaging in /usr/local/lib/python3.11/dist-packages (from clip==1.0) (24.2)\n",
            "Requirement already satisfied: regex in /usr/local/lib/python3.11/dist-packages (from clip==1.0) (2024.11.6)\n",
            "Requirement already satisfied: tqdm in /usr/local/lib/python3.11/dist-packages (from clip==1.0) (4.67.1)\n",
            "Requirement already satisfied: torch in /usr/local/lib/python3.11/dist-packages (from clip==1.0) (2.6.0+cu124)\n",
            "Requirement already satisfied: torchvision in /usr/local/lib/python3.11/dist-packages (from clip==1.0) (0.21.0+cu124)\n",
            "Requirement already satisfied: wcwidth in /usr/local/lib/python3.11/dist-packages (from ftfy->clip==1.0) (0.2.13)\n",
            "Requirement already satisfied: filelock in /usr/local/lib/python3.11/dist-packages (from torch->clip==1.0) (3.18.0)\n",
            "Requirement already satisfied: typing-extensions>=4.10.0 in /usr/local/lib/python3.11/dist-packages (from torch->clip==1.0) (4.14.0)\n",
            "Requirement already satisfied: networkx in /usr/local/lib/python3.11/dist-packages (from torch->clip==1.0) (3.5)\n",
            "Requirement already satisfied: jinja2 in /usr/local/lib/python3.11/dist-packages (from torch->clip==1.0) (3.1.6)\n",
            "Requirement already satisfied: fsspec in /usr/local/lib/python3.11/dist-packages (from torch->clip==1.0) (2025.3.2)\n",
            "Requirement already satisfied: nvidia-cuda-nvrtc-cu12==12.4.127 in /usr/local/lib/python3.11/dist-packages (from torch->clip==1.0) (12.4.127)\n",
            "Requirement already satisfied: nvidia-cuda-runtime-cu12==12.4.127 in /usr/local/lib/python3.11/dist-packages (from torch->clip==1.0) (12.4.127)\n",
            "Requirement already satisfied: nvidia-cuda-cupti-cu12==12.4.127 in /usr/local/lib/python3.11/dist-packages (from torch->clip==1.0) (12.4.127)\n",
            "Requirement already satisfied: nvidia-cudnn-cu12==9.1.0.70 in /usr/local/lib/python3.11/dist-packages (from torch->clip==1.0) (9.1.0.70)\n",
            "Requirement already satisfied: nvidia-cublas-cu12==12.4.5.8 in /usr/local/lib/python3.11/dist-packages (from torch->clip==1.0) (12.4.5.8)\n",
            "Requirement already satisfied: nvidia-cufft-cu12==11.2.1.3 in /usr/local/lib/python3.11/dist-packages (from torch->clip==1.0) (11.2.1.3)\n",
            "Requirement already satisfied: nvidia-curand-cu12==10.3.5.147 in /usr/local/lib/python3.11/dist-packages (from torch->clip==1.0) (10.3.5.147)\n",
            "Requirement already satisfied: nvidia-cusolver-cu12==11.6.1.9 in /usr/local/lib/python3.11/dist-packages (from torch->clip==1.0) (11.6.1.9)\n",
            "Requirement already satisfied: nvidia-cusparse-cu12==12.3.1.170 in /usr/local/lib/python3.11/dist-packages (from torch->clip==1.0) (12.3.1.170)\n",
            "Requirement already satisfied: nvidia-cusparselt-cu12==0.6.2 in /usr/local/lib/python3.11/dist-packages (from torch->clip==1.0) (0.6.2)\n",
            "Requirement already satisfied: nvidia-nccl-cu12==2.21.5 in /usr/local/lib/python3.11/dist-packages (from torch->clip==1.0) (2.21.5)\n",
            "Requirement already satisfied: nvidia-nvtx-cu12==12.4.127 in /usr/local/lib/python3.11/dist-packages (from torch->clip==1.0) (12.4.127)\n",
            "Requirement already satisfied: nvidia-nvjitlink-cu12==12.4.127 in /usr/local/lib/python3.11/dist-packages (from torch->clip==1.0) (12.4.127)\n",
            "Requirement already satisfied: triton==3.2.0 in /usr/local/lib/python3.11/dist-packages (from torch->clip==1.0) (3.2.0)\n",
            "Requirement already satisfied: sympy==1.13.1 in /usr/local/lib/python3.11/dist-packages (from torch->clip==1.0) (1.13.1)\n",
            "Requirement already satisfied: mpmath<1.4,>=1.1.0 in /usr/local/lib/python3.11/dist-packages (from sympy==1.13.1->torch->clip==1.0) (1.3.0)\n",
            "Requirement already satisfied: numpy in /usr/local/lib/python3.11/dist-packages (from torchvision->clip==1.0) (2.0.2)\n",
            "Requirement already satisfied: pillow!=8.3.*,>=5.3.0 in /usr/local/lib/python3.11/dist-packages (from torchvision->clip==1.0) (11.2.1)\n",
            "Requirement already satisfied: MarkupSafe>=2.0 in /usr/local/lib/python3.11/dist-packages (from jinja2->torch->clip==1.0) (3.0.2)\n"
          ]
        }
      ]
    },
    {
      "cell_type": "code",
      "source": [
        "CHECKPOINT_PATH = \"/content/drive/MyDrive/Assignment/checkpoints_pt/best_model.pt\"\n",
        "checkpoint = torch.load(CHECKPOINT_PATH, map_location=DEVICE)\n",
        "model.load_state_dict(checkpoint[\"model_state_dict\"])"
      ],
      "metadata": {
        "colab": {
          "base_uri": "https://localhost:8080/"
        },
        "id": "o0DZ0WrvkELE",
        "outputId": "c0d3ce3d-d759-4d41-844e-7f3d3283c746"
      },
      "execution_count": 14,
      "outputs": [
        {
          "output_type": "execute_result",
          "data": {
            "text/plain": [
              "<All keys matched successfully>"
            ]
          },
          "metadata": {},
          "execution_count": 14
        }
      ]
    },
    {
      "cell_type": "code",
      "source": [
        "\n"
      ],
      "metadata": {
        "id": "s47wpHwg0N-D"
      },
      "execution_count": 33,
      "outputs": []
    },
    {
      "cell_type": "code",
      "source": [
        "results = []\n",
        "for i in range(1, NUM_SAMPLES + 1):\n",
        "    sample_dir = os.path.join(TEST_DATA_DIR, f\"sample{i}\")\n",
        "    image_path = os.path.join(sample_dir, \"Image.jpg\")\n",
        "    caption_path = os.path.join(sample_dir, \"caption.txt\")\n",
        "    gt_path = os.path.join(sample_dir, \"GT.txt\")\n",
        "\n",
        "    # Load and preprocess image\n",
        "    image = Image.open(image_path).convert(\"RGB\")\n",
        "    img_tensor = vis_processors[\"eval\"](image).unsqueeze(0).to(DEVICE)\n",
        "\n",
        "    # Load and tokenize caption\n",
        "    with open(caption_path, \"r\") as f:\n",
        "        caption = f.read().strip()\n",
        "    txt_tensor = clip.tokenize([caption]).to(DEVICE)\n",
        "    if isinstance(txt_tensor, tuple):\n",
        "        txt_tensor = txt_tensor[0]\n",
        "    if txt_tensor.ndim == 1:\n",
        "        txt_tensor = txt_tensor.unsqueeze(0)\n",
        "    txt_tensor = txt_tensor.to(DEVICE)\n",
        "\n",
        "    # Load ground truth\n",
        "    with open(gt_path, \"r\") as f:\n",
        "        gt_str = f.read().strip().lower()\n",
        "        if gt_str == \"fake\":\n",
        "            ground_truth = 1\n",
        "        elif gt_str == \"true\":\n",
        "            ground_truth = 0\n",
        "        else:\n",
        "            raise ValueError(f\"Unknown label: {gt_str} in {gt_path}\")\n",
        "\n",
        "\n",
        "\n",
        "    with torch.no_grad():\n",
        "        model.load_state_dict(checkpoint[\"model_state_dict\"])\n",
        "        model.to(DEVICE)\n",
        "        model.eval()\n",
        "        img_features = clip_model.encode_image(img_tensor)\n",
        "        txt_features = clip_model.encode_text(txt_tensor)\n",
        "        features = torch.stack([img_features, txt_features], dim=1)\n",
        "        features = features.to(DEVICE)\n",
        "        print(f\"Sample {i} features shape:\", features.shape)  # Debug\n",
        "\n",
        "        output = model(features, inference=True)\n",
        "        if isinstance(output, tuple):\n",
        "            logits = output[0]\n",
        "        else:\n",
        "            logits = output\n",
        "\n",
        "        probs = torch.sigmoid(logits).cpu().numpy().flatten()\n",
        "        confidence = float(np.max([probs, 1-probs]))\n",
        "        entropy = float(-(probs * np.log(probs + 1e-8) + (1-probs) * np.log(1-probs + 1e-8)))\n",
        "        pred_label = int(probs < 0.5)\n",
        "\n",
        "    results.append({\n",
        "        \"sample\": i,\n",
        "        \"probability\": probs[0],\n",
        "        \"logit\": logits.cpu().numpy().flatten()[0],\n",
        "        \"ground_truth\": ground_truth\n",
        "    # optionally add: \"predicted_label\": int(probs > 0.5)\n",
        "})\n",
        "df = pd.DataFrame(results)"
      ],
      "metadata": {
        "colab": {
          "base_uri": "https://localhost:8080/"
        },
        "id": "Rcx9NZyln6-2",
        "outputId": "36af0f92-19fc-4465-a4a2-55d8219729a9"
      },
      "execution_count": 34,
      "outputs": [
        {
          "output_type": "stream",
          "name": "stdout",
          "text": [
            "Sample 1 features shape: torch.Size([1, 2, 768])\n",
            "Sample 2 features shape: torch.Size([1, 2, 768])\n",
            "Sample 3 features shape: torch.Size([1, 2, 768])\n"
          ]
        },
        {
          "output_type": "stream",
          "name": "stderr",
          "text": [
            "/tmp/ipython-input-34-2721450554.py:52: DeprecationWarning: Conversion of an array with ndim > 0 to a scalar is deprecated, and will error in future. Ensure you extract a single element from your array before performing this operation. (Deprecated NumPy 1.25.)\n",
            "  entropy = float(-(probs * np.log(probs + 1e-8) + (1-probs) * np.log(1-probs + 1e-8)))\n",
            "/tmp/ipython-input-34-2721450554.py:53: DeprecationWarning: Conversion of an array with ndim > 0 to a scalar is deprecated, and will error in future. Ensure you extract a single element from your array before performing this operation. (Deprecated NumPy 1.25.)\n",
            "  pred_label = int(probs < 0.5)\n"
          ]
        },
        {
          "output_type": "stream",
          "name": "stdout",
          "text": [
            "Sample 4 features shape: torch.Size([1, 2, 768])\n",
            "Sample 5 features shape: torch.Size([1, 2, 768])\n",
            "Sample 6 features shape: torch.Size([1, 2, 768])\n",
            "Sample 7 features shape: torch.Size([1, 2, 768])\n",
            "Sample 8 features shape: torch.Size([1, 2, 768])\n",
            "Sample 9 features shape: torch.Size([1, 2, 768])\n",
            "Sample 10 features shape: torch.Size([1, 2, 768])\n"
          ]
        }
      ]
    },
    {
      "cell_type": "code",
      "source": [
        "for i in range(1, NUM_SAMPLES + 1):\n",
        "  print(f\"Sample {i}: img_features mean={img_features.mean().item()}, std={img_features.std().item()}\")\n",
        "  print(f\"Sample {i}: txt_features mean={txt_features.mean().item()}, std={txt_features.std().item()}\")"
      ],
      "metadata": {
        "colab": {
          "base_uri": "https://localhost:8080/"
        },
        "id": "AEimfbbfkyZ6",
        "outputId": "9f8ab62d-b215-445e-8ffe-79f0c974cee4"
      },
      "execution_count": 35,
      "outputs": [
        {
          "output_type": "stream",
          "name": "stdout",
          "text": [
            "Sample 1: img_features mean=-0.010069314390420914, std=0.6967156529426575\n",
            "Sample 1: txt_features mean=-0.01145151536911726, std=0.4450313448905945\n",
            "Sample 2: img_features mean=-0.010069314390420914, std=0.6967156529426575\n",
            "Sample 2: txt_features mean=-0.01145151536911726, std=0.4450313448905945\n",
            "Sample 3: img_features mean=-0.010069314390420914, std=0.6967156529426575\n",
            "Sample 3: txt_features mean=-0.01145151536911726, std=0.4450313448905945\n",
            "Sample 4: img_features mean=-0.010069314390420914, std=0.6967156529426575\n",
            "Sample 4: txt_features mean=-0.01145151536911726, std=0.4450313448905945\n",
            "Sample 5: img_features mean=-0.010069314390420914, std=0.6967156529426575\n",
            "Sample 5: txt_features mean=-0.01145151536911726, std=0.4450313448905945\n",
            "Sample 6: img_features mean=-0.010069314390420914, std=0.6967156529426575\n",
            "Sample 6: txt_features mean=-0.01145151536911726, std=0.4450313448905945\n",
            "Sample 7: img_features mean=-0.010069314390420914, std=0.6967156529426575\n",
            "Sample 7: txt_features mean=-0.01145151536911726, std=0.4450313448905945\n",
            "Sample 8: img_features mean=-0.010069314390420914, std=0.6967156529426575\n",
            "Sample 8: txt_features mean=-0.01145151536911726, std=0.4450313448905945\n",
            "Sample 9: img_features mean=-0.010069314390420914, std=0.6967156529426575\n",
            "Sample 9: txt_features mean=-0.01145151536911726, std=0.4450313448905945\n",
            "Sample 10: img_features mean=-0.010069314390420914, std=0.6967156529426575\n",
            "Sample 10: txt_features mean=-0.01145151536911726, std=0.4450313448905945\n"
          ]
        }
      ]
    },
    {
      "cell_type": "code",
      "source": [
        "for i in range(1, NUM_SAMPLES + 1):\n",
        "    sample_dir = os.path.join(TEST_DATA_DIR, f\"sample{i}\")\n",
        "    image_path = os.path.join(sample_dir, \"Image.jpg\")\n",
        "    caption_path = os.path.join(sample_dir, \"caption.txt\")\n",
        "    gt_path = os.path.join(sample_dir, \"GT.txt\")\n",
        "    results.append({\n",
        "    \"sample\": i,\n",
        "    \"probability\": probs[0],\n",
        "    \"logit\": logits.cpu().numpy().flatten()[0],\n",
        "    \"ground_truth\": ground_truth\n",
        "    # optionally add: \"predicted_label\": int(probs > 0.5)\n",
        "})\n",
        "    print(f\"Sample {i}: logits={logits}\")"
      ],
      "metadata": {
        "colab": {
          "base_uri": "https://localhost:8080/"
        },
        "id": "pE2HvajvySDE",
        "outputId": "9e8429b2-6146-45fd-b8de-b0a630123a17"
      },
      "execution_count": 36,
      "outputs": [
        {
          "output_type": "stream",
          "name": "stdout",
          "text": [
            "Sample 1: logits=tensor([[-7.8397]], device='cuda:0')\n",
            "Sample 2: logits=tensor([[-7.8397]], device='cuda:0')\n",
            "Sample 3: logits=tensor([[-7.8397]], device='cuda:0')\n",
            "Sample 4: logits=tensor([[-7.8397]], device='cuda:0')\n",
            "Sample 5: logits=tensor([[-7.8397]], device='cuda:0')\n",
            "Sample 6: logits=tensor([[-7.8397]], device='cuda:0')\n",
            "Sample 7: logits=tensor([[-7.8397]], device='cuda:0')\n",
            "Sample 8: logits=tensor([[-7.8397]], device='cuda:0')\n",
            "Sample 9: logits=tensor([[-7.8397]], device='cuda:0')\n",
            "Sample 10: logits=tensor([[-7.8397]], device='cuda:0')\n"
          ]
        }
      ]
    },
    {
      "cell_type": "code",
      "source": [],
      "metadata": {
        "id": "YFlp3fH0yMQ2"
      },
      "execution_count": null,
      "outputs": []
    },
    {
      "cell_type": "code",
      "source": [
        "df"
      ],
      "metadata": {
        "colab": {
          "base_uri": "https://localhost:8080/",
          "height": 363
        },
        "id": "tbs7Me7F0OAr",
        "outputId": "2e50f515-3923-4efc-ab37-8d7fe3a5468d"
      },
      "execution_count": 37,
      "outputs": [
        {
          "output_type": "execute_result",
          "data": {
            "text/plain": [
              "   sample  probability      logit  ground_truth\n",
              "0       1     0.272330  -0.982835             1\n",
              "1       2     0.000153  -8.783122             0\n",
              "2       3     0.062082  -2.715200             1\n",
              "3       4     0.000045 -10.011206             1\n",
              "4       5     0.000157  -8.757331             0\n",
              "5       6     0.044764  -3.060564             1\n",
              "6       7     0.001595  -6.439342             1\n",
              "7       8     0.000082  -9.411135             0\n",
              "8       9     0.002630  -5.937966             0\n",
              "9      10     0.000394  -7.839696             1"
            ],
            "text/html": [
              "\n",
              "  <div id=\"df-f2850ec7-b288-4e9c-b2e3-12ee4eb69880\" class=\"colab-df-container\">\n",
              "    <div>\n",
              "<style scoped>\n",
              "    .dataframe tbody tr th:only-of-type {\n",
              "        vertical-align: middle;\n",
              "    }\n",
              "\n",
              "    .dataframe tbody tr th {\n",
              "        vertical-align: top;\n",
              "    }\n",
              "\n",
              "    .dataframe thead th {\n",
              "        text-align: right;\n",
              "    }\n",
              "</style>\n",
              "<table border=\"1\" class=\"dataframe\">\n",
              "  <thead>\n",
              "    <tr style=\"text-align: right;\">\n",
              "      <th></th>\n",
              "      <th>sample</th>\n",
              "      <th>probability</th>\n",
              "      <th>logit</th>\n",
              "      <th>ground_truth</th>\n",
              "    </tr>\n",
              "  </thead>\n",
              "  <tbody>\n",
              "    <tr>\n",
              "      <th>0</th>\n",
              "      <td>1</td>\n",
              "      <td>0.272330</td>\n",
              "      <td>-0.982835</td>\n",
              "      <td>1</td>\n",
              "    </tr>\n",
              "    <tr>\n",
              "      <th>1</th>\n",
              "      <td>2</td>\n",
              "      <td>0.000153</td>\n",
              "      <td>-8.783122</td>\n",
              "      <td>0</td>\n",
              "    </tr>\n",
              "    <tr>\n",
              "      <th>2</th>\n",
              "      <td>3</td>\n",
              "      <td>0.062082</td>\n",
              "      <td>-2.715200</td>\n",
              "      <td>1</td>\n",
              "    </tr>\n",
              "    <tr>\n",
              "      <th>3</th>\n",
              "      <td>4</td>\n",
              "      <td>0.000045</td>\n",
              "      <td>-10.011206</td>\n",
              "      <td>1</td>\n",
              "    </tr>\n",
              "    <tr>\n",
              "      <th>4</th>\n",
              "      <td>5</td>\n",
              "      <td>0.000157</td>\n",
              "      <td>-8.757331</td>\n",
              "      <td>0</td>\n",
              "    </tr>\n",
              "    <tr>\n",
              "      <th>5</th>\n",
              "      <td>6</td>\n",
              "      <td>0.044764</td>\n",
              "      <td>-3.060564</td>\n",
              "      <td>1</td>\n",
              "    </tr>\n",
              "    <tr>\n",
              "      <th>6</th>\n",
              "      <td>7</td>\n",
              "      <td>0.001595</td>\n",
              "      <td>-6.439342</td>\n",
              "      <td>1</td>\n",
              "    </tr>\n",
              "    <tr>\n",
              "      <th>7</th>\n",
              "      <td>8</td>\n",
              "      <td>0.000082</td>\n",
              "      <td>-9.411135</td>\n",
              "      <td>0</td>\n",
              "    </tr>\n",
              "    <tr>\n",
              "      <th>8</th>\n",
              "      <td>9</td>\n",
              "      <td>0.002630</td>\n",
              "      <td>-5.937966</td>\n",
              "      <td>0</td>\n",
              "    </tr>\n",
              "    <tr>\n",
              "      <th>9</th>\n",
              "      <td>10</td>\n",
              "      <td>0.000394</td>\n",
              "      <td>-7.839696</td>\n",
              "      <td>1</td>\n",
              "    </tr>\n",
              "  </tbody>\n",
              "</table>\n",
              "</div>\n",
              "    <div class=\"colab-df-buttons\">\n",
              "\n",
              "  <div class=\"colab-df-container\">\n",
              "    <button class=\"colab-df-convert\" onclick=\"convertToInteractive('df-f2850ec7-b288-4e9c-b2e3-12ee4eb69880')\"\n",
              "            title=\"Convert this dataframe to an interactive table.\"\n",
              "            style=\"display:none;\">\n",
              "\n",
              "  <svg xmlns=\"http://www.w3.org/2000/svg\" height=\"24px\" viewBox=\"0 -960 960 960\">\n",
              "    <path d=\"M120-120v-720h720v720H120Zm60-500h600v-160H180v160Zm220 220h160v-160H400v160Zm0 220h160v-160H400v160ZM180-400h160v-160H180v160Zm440 0h160v-160H620v160ZM180-180h160v-160H180v160Zm440 0h160v-160H620v160Z\"/>\n",
              "  </svg>\n",
              "    </button>\n",
              "\n",
              "  <style>\n",
              "    .colab-df-container {\n",
              "      display:flex;\n",
              "      gap: 12px;\n",
              "    }\n",
              "\n",
              "    .colab-df-convert {\n",
              "      background-color: #E8F0FE;\n",
              "      border: none;\n",
              "      border-radius: 50%;\n",
              "      cursor: pointer;\n",
              "      display: none;\n",
              "      fill: #1967D2;\n",
              "      height: 32px;\n",
              "      padding: 0 0 0 0;\n",
              "      width: 32px;\n",
              "    }\n",
              "\n",
              "    .colab-df-convert:hover {\n",
              "      background-color: #E2EBFA;\n",
              "      box-shadow: 0px 1px 2px rgba(60, 64, 67, 0.3), 0px 1px 3px 1px rgba(60, 64, 67, 0.15);\n",
              "      fill: #174EA6;\n",
              "    }\n",
              "\n",
              "    .colab-df-buttons div {\n",
              "      margin-bottom: 4px;\n",
              "    }\n",
              "\n",
              "    [theme=dark] .colab-df-convert {\n",
              "      background-color: #3B4455;\n",
              "      fill: #D2E3FC;\n",
              "    }\n",
              "\n",
              "    [theme=dark] .colab-df-convert:hover {\n",
              "      background-color: #434B5C;\n",
              "      box-shadow: 0px 1px 3px 1px rgba(0, 0, 0, 0.15);\n",
              "      filter: drop-shadow(0px 1px 2px rgba(0, 0, 0, 0.3));\n",
              "      fill: #FFFFFF;\n",
              "    }\n",
              "  </style>\n",
              "\n",
              "    <script>\n",
              "      const buttonEl =\n",
              "        document.querySelector('#df-f2850ec7-b288-4e9c-b2e3-12ee4eb69880 button.colab-df-convert');\n",
              "      buttonEl.style.display =\n",
              "        google.colab.kernel.accessAllowed ? 'block' : 'none';\n",
              "\n",
              "      async function convertToInteractive(key) {\n",
              "        const element = document.querySelector('#df-f2850ec7-b288-4e9c-b2e3-12ee4eb69880');\n",
              "        const dataTable =\n",
              "          await google.colab.kernel.invokeFunction('convertToInteractive',\n",
              "                                                    [key], {});\n",
              "        if (!dataTable) return;\n",
              "\n",
              "        const docLinkHtml = 'Like what you see? Visit the ' +\n",
              "          '<a target=\"_blank\" href=https://colab.research.google.com/notebooks/data_table.ipynb>data table notebook</a>'\n",
              "          + ' to learn more about interactive tables.';\n",
              "        element.innerHTML = '';\n",
              "        dataTable['output_type'] = 'display_data';\n",
              "        await google.colab.output.renderOutput(dataTable, element);\n",
              "        const docLink = document.createElement('div');\n",
              "        docLink.innerHTML = docLinkHtml;\n",
              "        element.appendChild(docLink);\n",
              "      }\n",
              "    </script>\n",
              "  </div>\n",
              "\n",
              "\n",
              "    <div id=\"df-8d46af62-4037-4e3c-9242-961135aac483\">\n",
              "      <button class=\"colab-df-quickchart\" onclick=\"quickchart('df-8d46af62-4037-4e3c-9242-961135aac483')\"\n",
              "                title=\"Suggest charts\"\n",
              "                style=\"display:none;\">\n",
              "\n",
              "<svg xmlns=\"http://www.w3.org/2000/svg\" height=\"24px\"viewBox=\"0 0 24 24\"\n",
              "     width=\"24px\">\n",
              "    <g>\n",
              "        <path d=\"M19 3H5c-1.1 0-2 .9-2 2v14c0 1.1.9 2 2 2h14c1.1 0 2-.9 2-2V5c0-1.1-.9-2-2-2zM9 17H7v-7h2v7zm4 0h-2V7h2v10zm4 0h-2v-4h2v4z\"/>\n",
              "    </g>\n",
              "</svg>\n",
              "      </button>\n",
              "\n",
              "<style>\n",
              "  .colab-df-quickchart {\n",
              "      --bg-color: #E8F0FE;\n",
              "      --fill-color: #1967D2;\n",
              "      --hover-bg-color: #E2EBFA;\n",
              "      --hover-fill-color: #174EA6;\n",
              "      --disabled-fill-color: #AAA;\n",
              "      --disabled-bg-color: #DDD;\n",
              "  }\n",
              "\n",
              "  [theme=dark] .colab-df-quickchart {\n",
              "      --bg-color: #3B4455;\n",
              "      --fill-color: #D2E3FC;\n",
              "      --hover-bg-color: #434B5C;\n",
              "      --hover-fill-color: #FFFFFF;\n",
              "      --disabled-bg-color: #3B4455;\n",
              "      --disabled-fill-color: #666;\n",
              "  }\n",
              "\n",
              "  .colab-df-quickchart {\n",
              "    background-color: var(--bg-color);\n",
              "    border: none;\n",
              "    border-radius: 50%;\n",
              "    cursor: pointer;\n",
              "    display: none;\n",
              "    fill: var(--fill-color);\n",
              "    height: 32px;\n",
              "    padding: 0;\n",
              "    width: 32px;\n",
              "  }\n",
              "\n",
              "  .colab-df-quickchart:hover {\n",
              "    background-color: var(--hover-bg-color);\n",
              "    box-shadow: 0 1px 2px rgba(60, 64, 67, 0.3), 0 1px 3px 1px rgba(60, 64, 67, 0.15);\n",
              "    fill: var(--button-hover-fill-color);\n",
              "  }\n",
              "\n",
              "  .colab-df-quickchart-complete:disabled,\n",
              "  .colab-df-quickchart-complete:disabled:hover {\n",
              "    background-color: var(--disabled-bg-color);\n",
              "    fill: var(--disabled-fill-color);\n",
              "    box-shadow: none;\n",
              "  }\n",
              "\n",
              "  .colab-df-spinner {\n",
              "    border: 2px solid var(--fill-color);\n",
              "    border-color: transparent;\n",
              "    border-bottom-color: var(--fill-color);\n",
              "    animation:\n",
              "      spin 1s steps(1) infinite;\n",
              "  }\n",
              "\n",
              "  @keyframes spin {\n",
              "    0% {\n",
              "      border-color: transparent;\n",
              "      border-bottom-color: var(--fill-color);\n",
              "      border-left-color: var(--fill-color);\n",
              "    }\n",
              "    20% {\n",
              "      border-color: transparent;\n",
              "      border-left-color: var(--fill-color);\n",
              "      border-top-color: var(--fill-color);\n",
              "    }\n",
              "    30% {\n",
              "      border-color: transparent;\n",
              "      border-left-color: var(--fill-color);\n",
              "      border-top-color: var(--fill-color);\n",
              "      border-right-color: var(--fill-color);\n",
              "    }\n",
              "    40% {\n",
              "      border-color: transparent;\n",
              "      border-right-color: var(--fill-color);\n",
              "      border-top-color: var(--fill-color);\n",
              "    }\n",
              "    60% {\n",
              "      border-color: transparent;\n",
              "      border-right-color: var(--fill-color);\n",
              "    }\n",
              "    80% {\n",
              "      border-color: transparent;\n",
              "      border-right-color: var(--fill-color);\n",
              "      border-bottom-color: var(--fill-color);\n",
              "    }\n",
              "    90% {\n",
              "      border-color: transparent;\n",
              "      border-bottom-color: var(--fill-color);\n",
              "    }\n",
              "  }\n",
              "</style>\n",
              "\n",
              "      <script>\n",
              "        async function quickchart(key) {\n",
              "          const quickchartButtonEl =\n",
              "            document.querySelector('#' + key + ' button');\n",
              "          quickchartButtonEl.disabled = true;  // To prevent multiple clicks.\n",
              "          quickchartButtonEl.classList.add('colab-df-spinner');\n",
              "          try {\n",
              "            const charts = await google.colab.kernel.invokeFunction(\n",
              "                'suggestCharts', [key], {});\n",
              "          } catch (error) {\n",
              "            console.error('Error during call to suggestCharts:', error);\n",
              "          }\n",
              "          quickchartButtonEl.classList.remove('colab-df-spinner');\n",
              "          quickchartButtonEl.classList.add('colab-df-quickchart-complete');\n",
              "        }\n",
              "        (() => {\n",
              "          let quickchartButtonEl =\n",
              "            document.querySelector('#df-8d46af62-4037-4e3c-9242-961135aac483 button');\n",
              "          quickchartButtonEl.style.display =\n",
              "            google.colab.kernel.accessAllowed ? 'block' : 'none';\n",
              "        })();\n",
              "      </script>\n",
              "    </div>\n",
              "\n",
              "  <div id=\"id_c98e4c26-6f06-4820-bed3-05705847225a\">\n",
              "    <style>\n",
              "      .colab-df-generate {\n",
              "        background-color: #E8F0FE;\n",
              "        border: none;\n",
              "        border-radius: 50%;\n",
              "        cursor: pointer;\n",
              "        display: none;\n",
              "        fill: #1967D2;\n",
              "        height: 32px;\n",
              "        padding: 0 0 0 0;\n",
              "        width: 32px;\n",
              "      }\n",
              "\n",
              "      .colab-df-generate:hover {\n",
              "        background-color: #E2EBFA;\n",
              "        box-shadow: 0px 1px 2px rgba(60, 64, 67, 0.3), 0px 1px 3px 1px rgba(60, 64, 67, 0.15);\n",
              "        fill: #174EA6;\n",
              "      }\n",
              "\n",
              "      [theme=dark] .colab-df-generate {\n",
              "        background-color: #3B4455;\n",
              "        fill: #D2E3FC;\n",
              "      }\n",
              "\n",
              "      [theme=dark] .colab-df-generate:hover {\n",
              "        background-color: #434B5C;\n",
              "        box-shadow: 0px 1px 3px 1px rgba(0, 0, 0, 0.15);\n",
              "        filter: drop-shadow(0px 1px 2px rgba(0, 0, 0, 0.3));\n",
              "        fill: #FFFFFF;\n",
              "      }\n",
              "    </style>\n",
              "    <button class=\"colab-df-generate\" onclick=\"generateWithVariable('df')\"\n",
              "            title=\"Generate code using this dataframe.\"\n",
              "            style=\"display:none;\">\n",
              "\n",
              "  <svg xmlns=\"http://www.w3.org/2000/svg\" height=\"24px\"viewBox=\"0 0 24 24\"\n",
              "       width=\"24px\">\n",
              "    <path d=\"M7,19H8.4L18.45,9,17,7.55,7,17.6ZM5,21V16.75L18.45,3.32a2,2,0,0,1,2.83,0l1.4,1.43a1.91,1.91,0,0,1,.58,1.4,1.91,1.91,0,0,1-.58,1.4L9.25,21ZM18.45,9,17,7.55Zm-12,3A5.31,5.31,0,0,0,4.9,8.1,5.31,5.31,0,0,0,1,6.5,5.31,5.31,0,0,0,4.9,4.9,5.31,5.31,0,0,0,6.5,1,5.31,5.31,0,0,0,8.1,4.9,5.31,5.31,0,0,0,12,6.5,5.46,5.46,0,0,0,6.5,12Z\"/>\n",
              "  </svg>\n",
              "    </button>\n",
              "    <script>\n",
              "      (() => {\n",
              "      const buttonEl =\n",
              "        document.querySelector('#id_c98e4c26-6f06-4820-bed3-05705847225a button.colab-df-generate');\n",
              "      buttonEl.style.display =\n",
              "        google.colab.kernel.accessAllowed ? 'block' : 'none';\n",
              "\n",
              "      buttonEl.onclick = () => {\n",
              "        google.colab.notebook.generateWithVariable('df');\n",
              "      }\n",
              "      })();\n",
              "    </script>\n",
              "  </div>\n",
              "\n",
              "    </div>\n",
              "  </div>\n"
            ],
            "application/vnd.google.colaboratory.intrinsic+json": {
              "type": "dataframe",
              "variable_name": "df",
              "summary": "{\n  \"name\": \"df\",\n  \"rows\": 10,\n  \"fields\": [\n    {\n      \"column\": \"sample\",\n      \"properties\": {\n        \"dtype\": \"number\",\n        \"std\": 3,\n        \"min\": 1,\n        \"max\": 10,\n        \"num_unique_values\": 10,\n        \"samples\": [\n          9,\n          2,\n          6\n        ],\n        \"semantic_type\": \"\",\n        \"description\": \"\"\n      }\n    },\n    {\n      \"column\": \"probability\",\n      \"properties\": {\n        \"dtype\": \"float32\",\n        \"num_unique_values\": 10,\n        \"samples\": [\n          0.0026304502971470356,\n          0.00015327523578889668,\n          0.04476358741521835\n        ],\n        \"semantic_type\": \"\",\n        \"description\": \"\"\n      }\n    },\n    {\n      \"column\": \"logit\",\n      \"properties\": {\n        \"dtype\": \"float32\",\n        \"num_unique_values\": 10,\n        \"samples\": [\n          -5.937966346740723,\n          -8.783122062683105,\n          -3.060563802719116\n        ],\n        \"semantic_type\": \"\",\n        \"description\": \"\"\n      }\n    },\n    {\n      \"column\": \"ground_truth\",\n      \"properties\": {\n        \"dtype\": \"number\",\n        \"std\": 0,\n        \"min\": 0,\n        \"max\": 1,\n        \"num_unique_values\": 2,\n        \"samples\": [\n          0,\n          1\n        ],\n        \"semantic_type\": \"\",\n        \"description\": \"\"\n      }\n    }\n  ]\n}"
            }
          },
          "metadata": {},
          "execution_count": 37
        }
      ]
    },
    {
      "cell_type": "code",
      "source": [],
      "metadata": {
        "id": "5wdJIIXw0ODL"
      },
      "execution_count": null,
      "outputs": []
    },
    {
      "cell_type": "code",
      "source": [],
      "metadata": {
        "id": "Tb3Msd0D0OFu"
      },
      "execution_count": null,
      "outputs": []
    },
    {
      "cell_type": "code",
      "source": [],
      "metadata": {
        "id": "L8gCSQ2c0OHa"
      },
      "execution_count": null,
      "outputs": []
    },
    {
      "cell_type": "code",
      "source": [],
      "metadata": {
        "id": "owUSll1X0OJ9"
      },
      "execution_count": null,
      "outputs": []
    },
    {
      "cell_type": "code",
      "source": [],
      "metadata": {
        "id": "-uN-a4jB0ONP"
      },
      "execution_count": null,
      "outputs": []
    }
  ]
}